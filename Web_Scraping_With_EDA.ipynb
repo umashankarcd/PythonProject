{
 "cells": [
  {
   "cell_type": "code",
   "execution_count": 1,
   "metadata": {},
   "outputs": [],
   "source": [
    "import requests\n",
    "from fake_useragent import UserAgent\n",
    "from bs4 import BeautifulSoup\n",
    "import pandas as pd\n",
    "from urllib.parse import urljoin\n",
    "import bs4"
   ]
  },
  {
   "cell_type": "code",
   "execution_count": 2,
   "metadata": {},
   "outputs": [],
   "source": [
    "lstproductname=[]# List to store name of the product\n",
    "lstprice =[] # List store pirice of the product\n",
    "lstrating =[] # List to store ratings of the product\n",
    "lstspecification = [] #List sto store specifications of the product\n",
    "lstprocessor=[]\n",
    "lstram=[]\n",
    "lststorage=[]\n",
    "lstos=[]\n",
    "lstdisplay=[]\n",
    "lstcamera=[]\n",
    "lstbattery=[]\n",
    "lstwarranty=[]\n",
    "lstsimstype=[]\n",
    "#lsthybridsim=[]\n",
    "base_url=\"https://www.flipkart.com\" #to read the sim type"
   ]
  },
  {
   "cell_type": "code",
   "execution_count": 3,
   "metadata": {},
   "outputs": [
    {
     "name": "stdout",
     "output_type": "stream",
     "text": [
      "Please enter a Product Name- mobile phones\n"
     ]
    }
   ],
   "source": [
    "user_agent = UserAgent()\n",
    "product_name = input(\"Please enter a Product Name- \")"
   ]
  },
  {
   "cell_type": "code",
   "execution_count": 4,
   "metadata": {},
   "outputs": [],
   "source": [
    "for i in range(1,12):\n",
    "    url=\"https://www.flipkart.com/search?q={0}&page={1}\"\n",
    "    \n",
    "    url=url.format(product_name,i)\n",
    "\n",
    "    ##gettinh the response from the page using get method of requests module\n",
    "    page = requests.get(url,headers={\"user-agent\":user_agent.chrome})\n",
    "     ##storing the content of the page in a variable\n",
    "    html = page.content\n",
    "\n",
    "    ##creating beautifulsoup object\n",
    "    page_soup =BeautifulSoup(html,\"html.parser\")\n",
    "\n",
    "    for containers in page_soup.findAll('div',{'class':'_2kHMtA'}): \n",
    "\n",
    "        productname=containers.find('div',attrs={'class':'_4rR01T'}) #_2rpwqI   \n",
    "\n",
    "        product_link=containers.find('a',attrs={'class':'_1fQZEK'})\n",
    "        price=containers.find('div',attrs={'class':'_30jeq3'}) #_2rpwqI    \n",
    "        rating = containers.find('div',attrs={'class':'_3LWZlK'})\n",
    "\n",
    "        intIndex=0\n",
    "        for feature in containers.find('ul',attrs={'class':'_1xgFaf'}):\n",
    "\n",
    "            if intIndex==0:\n",
    "                storage =feature.text\n",
    "            elif intIndex ==1:\n",
    "                display = feature.text\n",
    "            elif intIndex ==2:\n",
    "                if feature.text:\n",
    "                    camera = feature.text\n",
    "                else:\n",
    "                    camera ='NaN'\n",
    "            elif intIndex ==3:\n",
    "                battery = feature.text\n",
    "            elif intIndex ==4:\n",
    "                processor = feature.text\n",
    "            elif intIndex ==5:\n",
    "                warranty = feature.text\n",
    "\n",
    "            intIndex +=1\n",
    "        #Pass the child url to get the details of the product\n",
    "        child_url=urljoin(base_url,product_link['href'])\n",
    "\n",
    "        resp = requests.get(child_url)\n",
    "        page_child = BeautifulSoup(resp.text, 'html.parser')\n",
    "\n",
    "        for table in page_child.findAll('table',attrs={'class':'_14cfVK'}): #test:\n",
    "            ths = table.find_all('td')#,attrs={'class':'_1hKmbr col col-3-12'})\n",
    "            tds = [th.text for th in ths]\n",
    "            for td in tds:\n",
    "                if td == 'SIM Type':\n",
    "                    sim_type=tds[tds.index(td)+1]\n",
    "               # elif td == 'Hybrid Sim Slot':\n",
    "                  #  hybridsim_slot = tds[tds.index(td)+1]\n",
    "\n",
    "            else:\n",
    "                break\n",
    "            break\n",
    "        #loading the all the product sepecifications into the lists\n",
    "        lstproductname.append(productname.text)\n",
    "        lstprice.append(price.text)\n",
    "        lststorage.append(storage)\n",
    "        \n",
    "        if type(rating) == bs4.element.Tag:\n",
    "            lstrating.append(rating.text)            \n",
    "        else:\n",
    "            lstrating.append('NaN')\n",
    "        \n",
    "        lstdisplay.append(display)\n",
    "        lstbattery.append(battery)\n",
    "        lstprocessor.append(processor)\n",
    "        lstwarranty.append(warranty)\n",
    "        lstcamera.append(camera)\n",
    "        lstsimstype.append(sim_type)\n",
    "        #lsthybridsim.append(hybridsim_slot)\n",
    "        #'Hybrid Sim Slot':lsthybridsim,\n",
    "    products={'Product Name':lstproductname,'Processor':lstprocessor,'Storage':lststorage,\n",
    "              'Display':lstdisplay,'Camera':lstcamera,'Battery':lstbattery,'Sim Type':lstsimstype,\n",
    "              'Warranty':lstwarranty,'Price':lstprice,'Ratings':lstrating}\n",
    "\n"
   ]
  },
  {
   "cell_type": "code",
   "execution_count": 11,
   "metadata": {},
   "outputs": [
    {
     "data": {
      "text/html": [
       "<div>\n",
       "<style scoped>\n",
       "    .dataframe tbody tr th:only-of-type {\n",
       "        vertical-align: middle;\n",
       "    }\n",
       "\n",
       "    .dataframe tbody tr th {\n",
       "        vertical-align: top;\n",
       "    }\n",
       "\n",
       "    .dataframe thead th {\n",
       "        text-align: right;\n",
       "    }\n",
       "</style>\n",
       "<table border=\"1\" class=\"dataframe\">\n",
       "  <thead>\n",
       "    <tr style=\"text-align: right;\">\n",
       "      <th></th>\n",
       "      <th>Product Name</th>\n",
       "      <th>Processor</th>\n",
       "      <th>Storage</th>\n",
       "      <th>Display</th>\n",
       "      <th>Camera</th>\n",
       "      <th>Battery</th>\n",
       "      <th>Sim Type</th>\n",
       "      <th>Warranty</th>\n",
       "      <th>Price</th>\n",
       "      <th>Ratings</th>\n",
       "    </tr>\n",
       "  </thead>\n",
       "  <tbody>\n",
       "    <tr>\n",
       "      <th>0</th>\n",
       "      <td>Realme Narzo 20 (Glory Silver, 64 GB)</td>\n",
       "      <td>MediaTek Helio G85 Processor</td>\n",
       "      <td>4 GB RAM | 64 GB ROM | Expandable Upto 256 GB</td>\n",
       "      <td>16.56 cm (6.52 inch) HD+ Display</td>\n",
       "      <td>48MP + 8MP + 2MP | 8MP Front Camera</td>\n",
       "      <td>6000 mAh Lithium-ion Battery</td>\n",
       "      <td>Dual Sim</td>\n",
       "      <td>Brand Warranty of 1 Year Available for Mobile ...</td>\n",
       "      <td>₹10,499</td>\n",
       "      <td>4.3</td>\n",
       "    </tr>\n",
       "    <tr>\n",
       "      <th>1</th>\n",
       "      <td>Realme Narzo 20A (Victory Blue, 64 GB)</td>\n",
       "      <td>Qualcomm Snapdragon 665 Processor</td>\n",
       "      <td>4 GB RAM | 64 GB ROM | Expandable Upto 256 GB</td>\n",
       "      <td>16.51 cm (6.5 inch) HD+ Display</td>\n",
       "      <td>12MP + 2MP + 2MP | 8MP Front Camera</td>\n",
       "      <td>5000 mAh Lithium-ion Battery</td>\n",
       "      <td>Dual Sim</td>\n",
       "      <td>Brand Warranty of 1 Year Available for Mobile ...</td>\n",
       "      <td>₹9,499</td>\n",
       "      <td>4.4</td>\n",
       "    </tr>\n",
       "    <tr>\n",
       "      <th>2</th>\n",
       "      <td>Realme Narzo 20 (Glory Silver, 128 GB)</td>\n",
       "      <td>MediaTek Helio G85 Processor</td>\n",
       "      <td>4 GB RAM | 128 GB ROM | Expandable Upto 256 GB</td>\n",
       "      <td>16.56 cm (6.52 inch) HD+ Display</td>\n",
       "      <td>48MP + 8MP + 2MP | 8MP Front Camera</td>\n",
       "      <td>6000 mAh Lithium-ion Battery</td>\n",
       "      <td>Dual Sim</td>\n",
       "      <td>Brand Warranty of 1 Year Available for Mobile ...</td>\n",
       "      <td>₹11,499</td>\n",
       "      <td>4.3</td>\n",
       "    </tr>\n",
       "    <tr>\n",
       "      <th>3</th>\n",
       "      <td>Realme Narzo 20 (Victory Blue, 128 GB)</td>\n",
       "      <td>MediaTek Helio G85 Processor</td>\n",
       "      <td>4 GB RAM | 128 GB ROM | Expandable Upto 256 GB</td>\n",
       "      <td>16.56 cm (6.52 inch) HD+ Display</td>\n",
       "      <td>48MP + 8MP + 2MP | 8MP Front Camera</td>\n",
       "      <td>6000 mAh Lithium-ion Battery</td>\n",
       "      <td>Dual Sim</td>\n",
       "      <td>Brand Warranty of 1 Year Available for Mobile ...</td>\n",
       "      <td>₹11,499</td>\n",
       "      <td>4.3</td>\n",
       "    </tr>\n",
       "    <tr>\n",
       "      <th>4</th>\n",
       "      <td>Realme Narzo 20A (Glory Silver, 64 GB)</td>\n",
       "      <td>Qualcomm Snapdragon 665 Processor</td>\n",
       "      <td>4 GB RAM | 64 GB ROM | Expandable Upto 256 GB</td>\n",
       "      <td>16.51 cm (6.5 inch) HD+ Display</td>\n",
       "      <td>12MP + 2MP + 2MP | 8MP Front Camera</td>\n",
       "      <td>5000 mAh Lithium-ion Battery</td>\n",
       "      <td>Dual Sim</td>\n",
       "      <td>Brand Warranty of 1 Year Available for Mobile ...</td>\n",
       "      <td>₹9,499</td>\n",
       "      <td>4.4</td>\n",
       "    </tr>\n",
       "  </tbody>\n",
       "</table>\n",
       "</div>"
      ],
      "text/plain": [
       "                             Product Name                          Processor  \\\n",
       "0   Realme Narzo 20 (Glory Silver, 64 GB)       MediaTek Helio G85 Processor   \n",
       "1  Realme Narzo 20A (Victory Blue, 64 GB)  Qualcomm Snapdragon 665 Processor   \n",
       "2  Realme Narzo 20 (Glory Silver, 128 GB)       MediaTek Helio G85 Processor   \n",
       "3  Realme Narzo 20 (Victory Blue, 128 GB)       MediaTek Helio G85 Processor   \n",
       "4  Realme Narzo 20A (Glory Silver, 64 GB)  Qualcomm Snapdragon 665 Processor   \n",
       "\n",
       "                                          Storage  \\\n",
       "0   4 GB RAM | 64 GB ROM | Expandable Upto 256 GB   \n",
       "1   4 GB RAM | 64 GB ROM | Expandable Upto 256 GB   \n",
       "2  4 GB RAM | 128 GB ROM | Expandable Upto 256 GB   \n",
       "3  4 GB RAM | 128 GB ROM | Expandable Upto 256 GB   \n",
       "4   4 GB RAM | 64 GB ROM | Expandable Upto 256 GB   \n",
       "\n",
       "                            Display                               Camera  \\\n",
       "0  16.56 cm (6.52 inch) HD+ Display  48MP + 8MP + 2MP | 8MP Front Camera   \n",
       "1   16.51 cm (6.5 inch) HD+ Display  12MP + 2MP + 2MP | 8MP Front Camera   \n",
       "2  16.56 cm (6.52 inch) HD+ Display  48MP + 8MP + 2MP | 8MP Front Camera   \n",
       "3  16.56 cm (6.52 inch) HD+ Display  48MP + 8MP + 2MP | 8MP Front Camera   \n",
       "4   16.51 cm (6.5 inch) HD+ Display  12MP + 2MP + 2MP | 8MP Front Camera   \n",
       "\n",
       "                        Battery  Sim Type  \\\n",
       "0  6000 mAh Lithium-ion Battery  Dual Sim   \n",
       "1  5000 mAh Lithium-ion Battery  Dual Sim   \n",
       "2  6000 mAh Lithium-ion Battery  Dual Sim   \n",
       "3  6000 mAh Lithium-ion Battery  Dual Sim   \n",
       "4  5000 mAh Lithium-ion Battery  Dual Sim   \n",
       "\n",
       "                                            Warranty    Price Ratings  \n",
       "0  Brand Warranty of 1 Year Available for Mobile ...  ₹10,499     4.3  \n",
       "1  Brand Warranty of 1 Year Available for Mobile ...   ₹9,499     4.4  \n",
       "2  Brand Warranty of 1 Year Available for Mobile ...  ₹11,499     4.3  \n",
       "3  Brand Warranty of 1 Year Available for Mobile ...  ₹11,499     4.3  \n",
       "4  Brand Warranty of 1 Year Available for Mobile ...   ₹9,499     4.4  "
      ]
     },
     "execution_count": 11,
     "metadata": {},
     "output_type": "execute_result"
    }
   ],
   "source": [
    "dataset= pd.DataFrame(data=products)\n",
    "dataset.head()"
   ]
  },
  {
   "cell_type": "code",
   "execution_count": 12,
   "metadata": {},
   "outputs": [],
   "source": [
    "dfProd = dataset # changed from dataset to dfProd"
   ]
  },
  {
   "cell_type": "code",
   "execution_count": 13,
   "metadata": {},
   "outputs": [
    {
     "data": {
      "text/html": [
       "<div>\n",
       "<style scoped>\n",
       "    .dataframe tbody tr th:only-of-type {\n",
       "        vertical-align: middle;\n",
       "    }\n",
       "\n",
       "    .dataframe tbody tr th {\n",
       "        vertical-align: top;\n",
       "    }\n",
       "\n",
       "    .dataframe thead th {\n",
       "        text-align: right;\n",
       "    }\n",
       "</style>\n",
       "<table border=\"1\" class=\"dataframe\">\n",
       "  <thead>\n",
       "    <tr style=\"text-align: right;\">\n",
       "      <th></th>\n",
       "      <th>Product Name</th>\n",
       "      <th>Processor</th>\n",
       "      <th>Storage</th>\n",
       "      <th>Display</th>\n",
       "      <th>Camera</th>\n",
       "      <th>Battery</th>\n",
       "      <th>Sim Type</th>\n",
       "      <th>Warranty</th>\n",
       "      <th>Price</th>\n",
       "      <th>Ratings</th>\n",
       "    </tr>\n",
       "  </thead>\n",
       "  <tbody>\n",
       "    <tr>\n",
       "      <th>0</th>\n",
       "      <td>Realme Narzo 20 (Glory Silver, 64 GB)</td>\n",
       "      <td>MediaTek Helio G85 Processor</td>\n",
       "      <td>4 GB RAM | 64 GB ROM | Expandable Upto 256 GB</td>\n",
       "      <td>16.56 cm (6.52 inch) HD+ Display</td>\n",
       "      <td>48MP + 8MP + 2MP | 8MP Front Camera</td>\n",
       "      <td>6000 mAh Lithium-ion Battery</td>\n",
       "      <td>Dual Sim</td>\n",
       "      <td>Brand Warranty of 1 Year Available for Mobile ...</td>\n",
       "      <td>10499</td>\n",
       "      <td>4.3</td>\n",
       "    </tr>\n",
       "    <tr>\n",
       "      <th>1</th>\n",
       "      <td>Realme Narzo 20A (Victory Blue, 64 GB)</td>\n",
       "      <td>Qualcomm Snapdragon 665 Processor</td>\n",
       "      <td>4 GB RAM | 64 GB ROM | Expandable Upto 256 GB</td>\n",
       "      <td>16.51 cm (6.5 inch) HD+ Display</td>\n",
       "      <td>12MP + 2MP + 2MP | 8MP Front Camera</td>\n",
       "      <td>5000 mAh Lithium-ion Battery</td>\n",
       "      <td>Dual Sim</td>\n",
       "      <td>Brand Warranty of 1 Year Available for Mobile ...</td>\n",
       "      <td>9499</td>\n",
       "      <td>4.4</td>\n",
       "    </tr>\n",
       "    <tr>\n",
       "      <th>2</th>\n",
       "      <td>Realme Narzo 20 (Glory Silver, 128 GB)</td>\n",
       "      <td>MediaTek Helio G85 Processor</td>\n",
       "      <td>4 GB RAM | 128 GB ROM | Expandable Upto 256 GB</td>\n",
       "      <td>16.56 cm (6.52 inch) HD+ Display</td>\n",
       "      <td>48MP + 8MP + 2MP | 8MP Front Camera</td>\n",
       "      <td>6000 mAh Lithium-ion Battery</td>\n",
       "      <td>Dual Sim</td>\n",
       "      <td>Brand Warranty of 1 Year Available for Mobile ...</td>\n",
       "      <td>11499</td>\n",
       "      <td>4.3</td>\n",
       "    </tr>\n",
       "    <tr>\n",
       "      <th>3</th>\n",
       "      <td>Realme Narzo 20 (Victory Blue, 128 GB)</td>\n",
       "      <td>MediaTek Helio G85 Processor</td>\n",
       "      <td>4 GB RAM | 128 GB ROM | Expandable Upto 256 GB</td>\n",
       "      <td>16.56 cm (6.52 inch) HD+ Display</td>\n",
       "      <td>48MP + 8MP + 2MP | 8MP Front Camera</td>\n",
       "      <td>6000 mAh Lithium-ion Battery</td>\n",
       "      <td>Dual Sim</td>\n",
       "      <td>Brand Warranty of 1 Year Available for Mobile ...</td>\n",
       "      <td>11499</td>\n",
       "      <td>4.3</td>\n",
       "    </tr>\n",
       "    <tr>\n",
       "      <th>4</th>\n",
       "      <td>Realme Narzo 20A (Glory Silver, 64 GB)</td>\n",
       "      <td>Qualcomm Snapdragon 665 Processor</td>\n",
       "      <td>4 GB RAM | 64 GB ROM | Expandable Upto 256 GB</td>\n",
       "      <td>16.51 cm (6.5 inch) HD+ Display</td>\n",
       "      <td>12MP + 2MP + 2MP | 8MP Front Camera</td>\n",
       "      <td>5000 mAh Lithium-ion Battery</td>\n",
       "      <td>Dual Sim</td>\n",
       "      <td>Brand Warranty of 1 Year Available for Mobile ...</td>\n",
       "      <td>9499</td>\n",
       "      <td>4.4</td>\n",
       "    </tr>\n",
       "  </tbody>\n",
       "</table>\n",
       "</div>"
      ],
      "text/plain": [
       "                             Product Name                          Processor  \\\n",
       "0   Realme Narzo 20 (Glory Silver, 64 GB)       MediaTek Helio G85 Processor   \n",
       "1  Realme Narzo 20A (Victory Blue, 64 GB)  Qualcomm Snapdragon 665 Processor   \n",
       "2  Realme Narzo 20 (Glory Silver, 128 GB)       MediaTek Helio G85 Processor   \n",
       "3  Realme Narzo 20 (Victory Blue, 128 GB)       MediaTek Helio G85 Processor   \n",
       "4  Realme Narzo 20A (Glory Silver, 64 GB)  Qualcomm Snapdragon 665 Processor   \n",
       "\n",
       "                                          Storage  \\\n",
       "0   4 GB RAM | 64 GB ROM | Expandable Upto 256 GB   \n",
       "1   4 GB RAM | 64 GB ROM | Expandable Upto 256 GB   \n",
       "2  4 GB RAM | 128 GB ROM | Expandable Upto 256 GB   \n",
       "3  4 GB RAM | 128 GB ROM | Expandable Upto 256 GB   \n",
       "4   4 GB RAM | 64 GB ROM | Expandable Upto 256 GB   \n",
       "\n",
       "                            Display                               Camera  \\\n",
       "0  16.56 cm (6.52 inch) HD+ Display  48MP + 8MP + 2MP | 8MP Front Camera   \n",
       "1   16.51 cm (6.5 inch) HD+ Display  12MP + 2MP + 2MP | 8MP Front Camera   \n",
       "2  16.56 cm (6.52 inch) HD+ Display  48MP + 8MP + 2MP | 8MP Front Camera   \n",
       "3  16.56 cm (6.52 inch) HD+ Display  48MP + 8MP + 2MP | 8MP Front Camera   \n",
       "4   16.51 cm (6.5 inch) HD+ Display  12MP + 2MP + 2MP | 8MP Front Camera   \n",
       "\n",
       "                        Battery  Sim Type  \\\n",
       "0  6000 mAh Lithium-ion Battery  Dual Sim   \n",
       "1  5000 mAh Lithium-ion Battery  Dual Sim   \n",
       "2  6000 mAh Lithium-ion Battery  Dual Sim   \n",
       "3  6000 mAh Lithium-ion Battery  Dual Sim   \n",
       "4  5000 mAh Lithium-ion Battery  Dual Sim   \n",
       "\n",
       "                                            Warranty  Price Ratings  \n",
       "0  Brand Warranty of 1 Year Available for Mobile ...  10499     4.3  \n",
       "1  Brand Warranty of 1 Year Available for Mobile ...   9499     4.4  \n",
       "2  Brand Warranty of 1 Year Available for Mobile ...  11499     4.3  \n",
       "3  Brand Warranty of 1 Year Available for Mobile ...  11499     4.3  \n",
       "4  Brand Warranty of 1 Year Available for Mobile ...   9499     4.4  "
      ]
     },
     "execution_count": 13,
     "metadata": {},
     "output_type": "execute_result"
    }
   ],
   "source": [
    "dfProd['Price'] = dfProd['Price'].str.lstrip('₹')\n",
    "dfProd['Price'] = dfProd['Price'].replace({',':''}, regex=True)\n",
    "dfProd.head()"
   ]
  },
  {
   "cell_type": "code",
   "execution_count": 14,
   "metadata": {},
   "outputs": [
    {
     "name": "stderr",
     "output_type": "stream",
     "text": [
      "<ipython-input-14-bbcd5b903589>:3: FutureWarning: Columnar iteration over characters will be deprecated in future releases.\n",
      "  dfProd['Product Name'], dfProd['Color']=dfProd['Product Name'].str.split('(', 1).str\n"
     ]
    },
    {
     "data": {
      "text/html": [
       "<div>\n",
       "<style scoped>\n",
       "    .dataframe tbody tr th:only-of-type {\n",
       "        vertical-align: middle;\n",
       "    }\n",
       "\n",
       "    .dataframe tbody tr th {\n",
       "        vertical-align: top;\n",
       "    }\n",
       "\n",
       "    .dataframe thead th {\n",
       "        text-align: right;\n",
       "    }\n",
       "</style>\n",
       "<table border=\"1\" class=\"dataframe\">\n",
       "  <thead>\n",
       "    <tr style=\"text-align: right;\">\n",
       "      <th></th>\n",
       "      <th>Product Name</th>\n",
       "      <th>Processor</th>\n",
       "      <th>Storage</th>\n",
       "      <th>Display</th>\n",
       "      <th>Camera</th>\n",
       "      <th>Battery</th>\n",
       "      <th>Sim Type</th>\n",
       "      <th>Warranty</th>\n",
       "      <th>Price</th>\n",
       "      <th>Ratings</th>\n",
       "      <th>Color</th>\n",
       "    </tr>\n",
       "  </thead>\n",
       "  <tbody>\n",
       "    <tr>\n",
       "      <th>0</th>\n",
       "      <td>Realme Narzo 20</td>\n",
       "      <td>MediaTek Helio G85 Processor</td>\n",
       "      <td>4 GB RAM | 64 GB ROM | Expandable Upto 256 GB</td>\n",
       "      <td>16.56 cm (6.52 inch) HD+ Display</td>\n",
       "      <td>48MP + 8MP + 2MP | 8MP Front Camera</td>\n",
       "      <td>6000 mAh Lithium-ion Battery</td>\n",
       "      <td>Dual Sim</td>\n",
       "      <td>Brand Warranty of 1 Year Available for Mobile ...</td>\n",
       "      <td>10499</td>\n",
       "      <td>4.3</td>\n",
       "      <td>Glory Silver</td>\n",
       "    </tr>\n",
       "    <tr>\n",
       "      <th>1</th>\n",
       "      <td>Realme Narzo 20A</td>\n",
       "      <td>Qualcomm Snapdragon 665 Processor</td>\n",
       "      <td>4 GB RAM | 64 GB ROM | Expandable Upto 256 GB</td>\n",
       "      <td>16.51 cm (6.5 inch) HD+ Display</td>\n",
       "      <td>12MP + 2MP + 2MP | 8MP Front Camera</td>\n",
       "      <td>5000 mAh Lithium-ion Battery</td>\n",
       "      <td>Dual Sim</td>\n",
       "      <td>Brand Warranty of 1 Year Available for Mobile ...</td>\n",
       "      <td>9499</td>\n",
       "      <td>4.4</td>\n",
       "      <td>Victory Blue</td>\n",
       "    </tr>\n",
       "    <tr>\n",
       "      <th>2</th>\n",
       "      <td>Realme Narzo 20</td>\n",
       "      <td>MediaTek Helio G85 Processor</td>\n",
       "      <td>4 GB RAM | 128 GB ROM | Expandable Upto 256 GB</td>\n",
       "      <td>16.56 cm (6.52 inch) HD+ Display</td>\n",
       "      <td>48MP + 8MP + 2MP | 8MP Front Camera</td>\n",
       "      <td>6000 mAh Lithium-ion Battery</td>\n",
       "      <td>Dual Sim</td>\n",
       "      <td>Brand Warranty of 1 Year Available for Mobile ...</td>\n",
       "      <td>11499</td>\n",
       "      <td>4.3</td>\n",
       "      <td>Glory Silver</td>\n",
       "    </tr>\n",
       "    <tr>\n",
       "      <th>3</th>\n",
       "      <td>Realme Narzo 20</td>\n",
       "      <td>MediaTek Helio G85 Processor</td>\n",
       "      <td>4 GB RAM | 128 GB ROM | Expandable Upto 256 GB</td>\n",
       "      <td>16.56 cm (6.52 inch) HD+ Display</td>\n",
       "      <td>48MP + 8MP + 2MP | 8MP Front Camera</td>\n",
       "      <td>6000 mAh Lithium-ion Battery</td>\n",
       "      <td>Dual Sim</td>\n",
       "      <td>Brand Warranty of 1 Year Available for Mobile ...</td>\n",
       "      <td>11499</td>\n",
       "      <td>4.3</td>\n",
       "      <td>Victory Blue</td>\n",
       "    </tr>\n",
       "    <tr>\n",
       "      <th>4</th>\n",
       "      <td>Realme Narzo 20A</td>\n",
       "      <td>Qualcomm Snapdragon 665 Processor</td>\n",
       "      <td>4 GB RAM | 64 GB ROM | Expandable Upto 256 GB</td>\n",
       "      <td>16.51 cm (6.5 inch) HD+ Display</td>\n",
       "      <td>12MP + 2MP + 2MP | 8MP Front Camera</td>\n",
       "      <td>5000 mAh Lithium-ion Battery</td>\n",
       "      <td>Dual Sim</td>\n",
       "      <td>Brand Warranty of 1 Year Available for Mobile ...</td>\n",
       "      <td>9499</td>\n",
       "      <td>4.4</td>\n",
       "      <td>Glory Silver</td>\n",
       "    </tr>\n",
       "  </tbody>\n",
       "</table>\n",
       "</div>"
      ],
      "text/plain": [
       "        Product Name                          Processor  \\\n",
       "0   Realme Narzo 20        MediaTek Helio G85 Processor   \n",
       "1  Realme Narzo 20A   Qualcomm Snapdragon 665 Processor   \n",
       "2   Realme Narzo 20        MediaTek Helio G85 Processor   \n",
       "3   Realme Narzo 20        MediaTek Helio G85 Processor   \n",
       "4  Realme Narzo 20A   Qualcomm Snapdragon 665 Processor   \n",
       "\n",
       "                                          Storage  \\\n",
       "0   4 GB RAM | 64 GB ROM | Expandable Upto 256 GB   \n",
       "1   4 GB RAM | 64 GB ROM | Expandable Upto 256 GB   \n",
       "2  4 GB RAM | 128 GB ROM | Expandable Upto 256 GB   \n",
       "3  4 GB RAM | 128 GB ROM | Expandable Upto 256 GB   \n",
       "4   4 GB RAM | 64 GB ROM | Expandable Upto 256 GB   \n",
       "\n",
       "                            Display                               Camera  \\\n",
       "0  16.56 cm (6.52 inch) HD+ Display  48MP + 8MP + 2MP | 8MP Front Camera   \n",
       "1   16.51 cm (6.5 inch) HD+ Display  12MP + 2MP + 2MP | 8MP Front Camera   \n",
       "2  16.56 cm (6.52 inch) HD+ Display  48MP + 8MP + 2MP | 8MP Front Camera   \n",
       "3  16.56 cm (6.52 inch) HD+ Display  48MP + 8MP + 2MP | 8MP Front Camera   \n",
       "4   16.51 cm (6.5 inch) HD+ Display  12MP + 2MP + 2MP | 8MP Front Camera   \n",
       "\n",
       "                        Battery  Sim Type  \\\n",
       "0  6000 mAh Lithium-ion Battery  Dual Sim   \n",
       "1  5000 mAh Lithium-ion Battery  Dual Sim   \n",
       "2  6000 mAh Lithium-ion Battery  Dual Sim   \n",
       "3  6000 mAh Lithium-ion Battery  Dual Sim   \n",
       "4  5000 mAh Lithium-ion Battery  Dual Sim   \n",
       "\n",
       "                                            Warranty  Price Ratings  \\\n",
       "0  Brand Warranty of 1 Year Available for Mobile ...  10499     4.3   \n",
       "1  Brand Warranty of 1 Year Available for Mobile ...   9499     4.4   \n",
       "2  Brand Warranty of 1 Year Available for Mobile ...  11499     4.3   \n",
       "3  Brand Warranty of 1 Year Available for Mobile ...  11499     4.3   \n",
       "4  Brand Warranty of 1 Year Available for Mobile ...   9499     4.4   \n",
       "\n",
       "          Color  \n",
       "0  Glory Silver  \n",
       "1  Victory Blue  \n",
       "2  Glory Silver  \n",
       "3  Victory Blue  \n",
       "4  Glory Silver  "
      ]
     },
     "execution_count": 14,
     "metadata": {},
     "output_type": "execute_result"
    }
   ],
   "source": [
    "#Split the Product name column and move the color into column and name to product name column\n",
    "dfProd['Product Name']=dfProd['Product Name'].str.split(',', 1).str[0]\n",
    "dfProd['Product Name'], dfProd['Color']=dfProd['Product Name'].str.split('(', 1).str\n",
    "dfProd.head()"
   ]
  },
  {
   "cell_type": "code",
   "execution_count": 16,
   "metadata": {},
   "outputs": [
    {
     "data": {
      "text/plain": [
       "Product Name     object\n",
       "Processor        object\n",
       "Storage          object\n",
       "Display          object\n",
       "Camera           object\n",
       "Battery          object\n",
       "Sim Type         object\n",
       "Warranty         object\n",
       "Price           float64\n",
       "Ratings         float64\n",
       "Color            object\n",
       "dtype: object"
      ]
     },
     "execution_count": 16,
     "metadata": {},
     "output_type": "execute_result"
    }
   ],
   "source": [
    "dfProd.dtypes"
   ]
  },
  {
   "cell_type": "code",
   "execution_count": 17,
   "metadata": {},
   "outputs": [],
   "source": [
    "#Convert Price and ratings to float type\n",
    "import numpy as np\n",
    "dfProd['Price'] = dfProd['Price'].astype(np.float)\n",
    "dfProd['Ratings']= dfProd['Ratings'].astype(np.float)"
   ]
  },
  {
   "cell_type": "code",
   "execution_count": 18,
   "metadata": {},
   "outputs": [
    {
     "data": {
      "text/plain": [
       "Product Name     object\n",
       "Processor        object\n",
       "Storage          object\n",
       "Display          object\n",
       "Camera           object\n",
       "Battery          object\n",
       "Sim Type         object\n",
       "Warranty         object\n",
       "Price           float64\n",
       "Ratings         float64\n",
       "Color            object\n",
       "dtype: object"
      ]
     },
     "execution_count": 18,
     "metadata": {},
     "output_type": "execute_result"
    }
   ],
   "source": [
    "dfProd.dtypes"
   ]
  },
  {
   "cell_type": "code",
   "execution_count": 19,
   "metadata": {},
   "outputs": [],
   "source": [
    "#Get a company name from product name its beginning of the first word.\n",
    "dfProd['Company']=dfProd['Product Name'].str.split(' ', 1).str[0]"
   ]
  },
  {
   "cell_type": "code",
   "execution_count": 20,
   "metadata": {},
   "outputs": [
    {
     "data": {
      "text/html": [
       "<div>\n",
       "<style scoped>\n",
       "    .dataframe tbody tr th:only-of-type {\n",
       "        vertical-align: middle;\n",
       "    }\n",
       "\n",
       "    .dataframe tbody tr th {\n",
       "        vertical-align: top;\n",
       "    }\n",
       "\n",
       "    .dataframe thead th {\n",
       "        text-align: right;\n",
       "    }\n",
       "</style>\n",
       "<table border=\"1\" class=\"dataframe\">\n",
       "  <thead>\n",
       "    <tr style=\"text-align: right;\">\n",
       "      <th></th>\n",
       "      <th>Product Name</th>\n",
       "      <th>Processor</th>\n",
       "      <th>Storage</th>\n",
       "      <th>Display</th>\n",
       "      <th>Camera</th>\n",
       "      <th>Battery</th>\n",
       "      <th>Sim Type</th>\n",
       "      <th>Warranty</th>\n",
       "      <th>Price</th>\n",
       "      <th>Ratings</th>\n",
       "      <th>Color</th>\n",
       "      <th>Company</th>\n",
       "    </tr>\n",
       "  </thead>\n",
       "  <tbody>\n",
       "    <tr>\n",
       "      <th>0</th>\n",
       "      <td>Realme Narzo 20</td>\n",
       "      <td>MediaTek Helio G85 Processor</td>\n",
       "      <td>4 GB RAM | 64 GB ROM | Expandable Upto 256 GB</td>\n",
       "      <td>16.56 cm (6.52 inch) HD+ Display</td>\n",
       "      <td>48MP + 8MP + 2MP | 8MP Front Camera</td>\n",
       "      <td>6000 mAh Lithium-ion Battery</td>\n",
       "      <td>Dual Sim</td>\n",
       "      <td>Brand Warranty of 1 Year Available for Mobile ...</td>\n",
       "      <td>10499.0</td>\n",
       "      <td>4.3</td>\n",
       "      <td>Glory Silver</td>\n",
       "      <td>Realme</td>\n",
       "    </tr>\n",
       "    <tr>\n",
       "      <th>1</th>\n",
       "      <td>Realme Narzo 20A</td>\n",
       "      <td>Qualcomm Snapdragon 665 Processor</td>\n",
       "      <td>4 GB RAM | 64 GB ROM | Expandable Upto 256 GB</td>\n",
       "      <td>16.51 cm (6.5 inch) HD+ Display</td>\n",
       "      <td>12MP + 2MP + 2MP | 8MP Front Camera</td>\n",
       "      <td>5000 mAh Lithium-ion Battery</td>\n",
       "      <td>Dual Sim</td>\n",
       "      <td>Brand Warranty of 1 Year Available for Mobile ...</td>\n",
       "      <td>9499.0</td>\n",
       "      <td>4.4</td>\n",
       "      <td>Victory Blue</td>\n",
       "      <td>Realme</td>\n",
       "    </tr>\n",
       "    <tr>\n",
       "      <th>2</th>\n",
       "      <td>Realme Narzo 20</td>\n",
       "      <td>MediaTek Helio G85 Processor</td>\n",
       "      <td>4 GB RAM | 128 GB ROM | Expandable Upto 256 GB</td>\n",
       "      <td>16.56 cm (6.52 inch) HD+ Display</td>\n",
       "      <td>48MP + 8MP + 2MP | 8MP Front Camera</td>\n",
       "      <td>6000 mAh Lithium-ion Battery</td>\n",
       "      <td>Dual Sim</td>\n",
       "      <td>Brand Warranty of 1 Year Available for Mobile ...</td>\n",
       "      <td>11499.0</td>\n",
       "      <td>4.3</td>\n",
       "      <td>Glory Silver</td>\n",
       "      <td>Realme</td>\n",
       "    </tr>\n",
       "    <tr>\n",
       "      <th>3</th>\n",
       "      <td>Realme Narzo 20</td>\n",
       "      <td>MediaTek Helio G85 Processor</td>\n",
       "      <td>4 GB RAM | 128 GB ROM | Expandable Upto 256 GB</td>\n",
       "      <td>16.56 cm (6.52 inch) HD+ Display</td>\n",
       "      <td>48MP + 8MP + 2MP | 8MP Front Camera</td>\n",
       "      <td>6000 mAh Lithium-ion Battery</td>\n",
       "      <td>Dual Sim</td>\n",
       "      <td>Brand Warranty of 1 Year Available for Mobile ...</td>\n",
       "      <td>11499.0</td>\n",
       "      <td>4.3</td>\n",
       "      <td>Victory Blue</td>\n",
       "      <td>Realme</td>\n",
       "    </tr>\n",
       "    <tr>\n",
       "      <th>4</th>\n",
       "      <td>Realme Narzo 20A</td>\n",
       "      <td>Qualcomm Snapdragon 665 Processor</td>\n",
       "      <td>4 GB RAM | 64 GB ROM | Expandable Upto 256 GB</td>\n",
       "      <td>16.51 cm (6.5 inch) HD+ Display</td>\n",
       "      <td>12MP + 2MP + 2MP | 8MP Front Camera</td>\n",
       "      <td>5000 mAh Lithium-ion Battery</td>\n",
       "      <td>Dual Sim</td>\n",
       "      <td>Brand Warranty of 1 Year Available for Mobile ...</td>\n",
       "      <td>9499.0</td>\n",
       "      <td>4.4</td>\n",
       "      <td>Glory Silver</td>\n",
       "      <td>Realme</td>\n",
       "    </tr>\n",
       "  </tbody>\n",
       "</table>\n",
       "</div>"
      ],
      "text/plain": [
       "        Product Name                          Processor  \\\n",
       "0   Realme Narzo 20        MediaTek Helio G85 Processor   \n",
       "1  Realme Narzo 20A   Qualcomm Snapdragon 665 Processor   \n",
       "2   Realme Narzo 20        MediaTek Helio G85 Processor   \n",
       "3   Realme Narzo 20        MediaTek Helio G85 Processor   \n",
       "4  Realme Narzo 20A   Qualcomm Snapdragon 665 Processor   \n",
       "\n",
       "                                          Storage  \\\n",
       "0   4 GB RAM | 64 GB ROM | Expandable Upto 256 GB   \n",
       "1   4 GB RAM | 64 GB ROM | Expandable Upto 256 GB   \n",
       "2  4 GB RAM | 128 GB ROM | Expandable Upto 256 GB   \n",
       "3  4 GB RAM | 128 GB ROM | Expandable Upto 256 GB   \n",
       "4   4 GB RAM | 64 GB ROM | Expandable Upto 256 GB   \n",
       "\n",
       "                            Display                               Camera  \\\n",
       "0  16.56 cm (6.52 inch) HD+ Display  48MP + 8MP + 2MP | 8MP Front Camera   \n",
       "1   16.51 cm (6.5 inch) HD+ Display  12MP + 2MP + 2MP | 8MP Front Camera   \n",
       "2  16.56 cm (6.52 inch) HD+ Display  48MP + 8MP + 2MP | 8MP Front Camera   \n",
       "3  16.56 cm (6.52 inch) HD+ Display  48MP + 8MP + 2MP | 8MP Front Camera   \n",
       "4   16.51 cm (6.5 inch) HD+ Display  12MP + 2MP + 2MP | 8MP Front Camera   \n",
       "\n",
       "                        Battery  Sim Type  \\\n",
       "0  6000 mAh Lithium-ion Battery  Dual Sim   \n",
       "1  5000 mAh Lithium-ion Battery  Dual Sim   \n",
       "2  6000 mAh Lithium-ion Battery  Dual Sim   \n",
       "3  6000 mAh Lithium-ion Battery  Dual Sim   \n",
       "4  5000 mAh Lithium-ion Battery  Dual Sim   \n",
       "\n",
       "                                            Warranty    Price  Ratings  \\\n",
       "0  Brand Warranty of 1 Year Available for Mobile ...  10499.0      4.3   \n",
       "1  Brand Warranty of 1 Year Available for Mobile ...   9499.0      4.4   \n",
       "2  Brand Warranty of 1 Year Available for Mobile ...  11499.0      4.3   \n",
       "3  Brand Warranty of 1 Year Available for Mobile ...  11499.0      4.3   \n",
       "4  Brand Warranty of 1 Year Available for Mobile ...   9499.0      4.4   \n",
       "\n",
       "          Color Company  \n",
       "0  Glory Silver  Realme  \n",
       "1  Victory Blue  Realme  \n",
       "2  Glory Silver  Realme  \n",
       "3  Victory Blue  Realme  \n",
       "4  Glory Silver  Realme  "
      ]
     },
     "execution_count": 20,
     "metadata": {},
     "output_type": "execute_result"
    }
   ],
   "source": [
    "dfProd.head()"
   ]
  },
  {
   "cell_type": "code",
   "execution_count": 22,
   "metadata": {},
   "outputs": [
    {
     "data": {
      "text/plain": [
       "<matplotlib.axes._subplots.AxesSubplot at 0x17f9042d9d0>"
      ]
     },
     "execution_count": 22,
     "metadata": {},
     "output_type": "execute_result"
    },
    {
     "data": {
      "image/png": "[encoded data removed]",
      "text/plain": [
       "<Figure size 432x288 with 1 Axes>"
      ]
     },
     "metadata": {
      "needs_background": "light"
     },
     "output_type": "display_data"
    }
   ],
   "source": [
    "import seaborn as sns\n",
    "import matplotlib.pyplot as plt\n",
    "sns.boxplot(x=dfProd['Price']) # To  check if any outlier where the price range is very high"
   ]
  },
  {
   "cell_type": "code",
   "execution_count": 25,
   "metadata": {},
   "outputs": [],
   "source": [
    "#Since our budget is 25k select price between 14000 to 30000 ruppes\n",
    "dfProd1=dfProd[((dfProd['Price']>14000) & (dfProd['Price']<=30000))]"
   ]
  },
  {
   "cell_type": "code",
   "execution_count": 26,
   "metadata": {},
   "outputs": [
    {
     "data": {
      "text/plain": [
       "<matplotlib.axes._subplots.AxesSubplot at 0x17f9047f460>"
      ]
     },
     "execution_count": 26,
     "metadata": {},
     "output_type": "execute_result"
    },
    {
     "data": {
      "image/png": "[encoded data removed]",
      "text/plain": [
       "<Figure size 432x288 with 1 Axes>"
      ]
     },
     "metadata": {
      "needs_background": "light"
     },
     "output_type": "display_data"
    }
   ],
   "source": [
    "sns.barplot(y=dfProd1['Price'],x=dfProd1['Ratings'])\n"
   ]
  },
  {
   "cell_type": "code",
   "execution_count": 27,
   "metadata": {},
   "outputs": [
    {
     "data": {
      "text/plain": [
       "<matplotlib.axes._subplots.AxesSubplot at 0x17f90494e50>"
      ]
     },
     "execution_count": 27,
     "metadata": {},
     "output_type": "execute_result"
    },
    {
     "data": {
      "image/png": "[encoded data removed]",
      "text/plain": [
       "<Figure size 432x288 with 1 Axes>"
      ]
     },
     "metadata": {
      "needs_background": "light"
     },
     "output_type": "display_data"
    }
   ],
   "source": [
    "sns.lineplot(x=dfProd1['Ratings'],y=dfProd1['Price'])"
   ]
  },
  {
   "cell_type": "code",
   "execution_count": 28,
   "metadata": {},
   "outputs": [
    {
     "data": {
      "image/png": "[encoded data removed]",
      "text/plain": [
       "<Figure size 1080x720 with 1 Axes>"
      ]
     },
     "metadata": {
      "needs_background": "light"
     },
     "output_type": "display_data"
    }
   ],
   "source": [
    "\n",
    "plt.figure(figsize=(15,10))\n",
    "graph = sns.barplot(x=dfProd1['Ratings'], y=dfProd1['Color'], data = dfProd1)\n",
    "for p in graph.patches:\n",
    "        graph.annotate('{:.0f}'.format(p.get_height()), (p.get_x()+0.3, p.get_height()),\n",
    "                    ha='center', va='bottom',\n",
    "                    color= 'black')\n",
    "            \n",
    "plt.show()"
   ]
  },
  {
   "cell_type": "code",
   "execution_count": 29,
   "metadata": {},
   "outputs": [
    {
     "data": {
      "text/plain": [
       "<matplotlib.axes._subplots.AxesSubplot at 0x17f90c28ee0>"
      ]
     },
     "execution_count": 29,
     "metadata": {},
     "output_type": "execute_result"
    },
    {
     "data": {
      "image/png": "[encoded data removed]",
      "text/plain": [
       "<Figure size 432x288 with 1 Axes>"
      ]
     },
     "metadata": {
      "needs_background": "light"
     },
     "output_type": "display_data"
    }
   ],
   "source": [
    "sns.barplot(x=dfProd['Sim Type'],y=dfProd['Price'])"
   ]
  },
  {
   "cell_type": "code",
   "execution_count": 30,
   "metadata": {},
   "outputs": [
    {
     "data": {
      "image/png": "[encoded data removed]",
      "text/plain": [
       "<Figure size 1080x720 with 1 Axes>"
      ]
     },
     "metadata": {
      "needs_background": "light"
     },
     "output_type": "display_data"
    }
   ],
   "source": [
    "plt.figure(figsize=(15,10))\n",
    "graph = sns.barplot(x=dfProd1['Price'], y=dfProd1['Color'], data = dfProd1)\n",
    "for p in graph.patches:\n",
    "        graph.annotate('{:.0f}'.format(p.get_height()), (p.get_x()+0.3, p.get_height()),\n",
    "                    ha='center', va='bottom',\n",
    "                    color= 'black')            \n",
    "plt.show()"
   ]
  },
  {
   "cell_type": "code",
   "execution_count": 31,
   "metadata": {},
   "outputs": [
    {
     "data": {
      "image/png": "[encoded data removed]",
      "text/plain": [
       "<Figure size 576x360 with 1 Axes>"
      ]
     },
     "metadata": {
      "needs_background": "light"
     },
     "output_type": "display_data"
    }
   ],
   "source": [
    "plt.figure(figsize=(8,5))\n",
    "graph = sns.barplot(x=dfProd1['Company'], y=dfProd1['Price'], data = dfProd1 )\n",
    "for p in graph.patches:\n",
    "        graph.annotate('{:.0f}'.format(p.get_height()), (p.get_x()+0.3, p.get_height()),\n",
    "                    ha='center', va='bottom',\n",
    "                    color= 'black')            \n",
    "plt.show()"
   ]
  },
  {
   "cell_type": "code",
   "execution_count": 32,
   "metadata": {},
   "outputs": [
    {
     "data": {
      "image/png": "[encoded data removed]",
      "text/plain": [
       "<Figure size 576x360 with 1 Axes>"
      ]
     },
     "metadata": {
      "needs_background": "light"
     },
     "output_type": "display_data"
    }
   ],
   "source": [
    "plt.figure(figsize=(8,5))\n",
    "graph = sns.barplot(x=dfProd1['Company'], y=dfProd1['Ratings'], data = dfProd1 )\n",
    "for p in graph.patches:\n",
    "        graph.annotate('{:.0f}'.format(p.get_height()), (p.get_x()+0.3, p.get_height()),\n",
    "                    ha='center', va='bottom',\n",
    "                    color= 'black')            \n",
    "plt.show()"
   ]
  },
  {
   "cell_type": "code",
   "execution_count": 33,
   "metadata": {},
   "outputs": [],
   "source": [
    "dfProd.to_csv('mobile_phones.csv')"
   ]
  }
 ],
 "metadata": {
  "kernelspec": {
   "display_name": "Python 3",
   "language": "python",
   "name": "python3"
  },
  "language_info": {
   "codemirror_mode": {
    "name": "ipython",
    "version": 3
   },
   "file_extension": ".py",
   "mimetype": "text/x-python",
   "name": "python",
   "nbconvert_exporter": "python",
   "pygments_lexer": "ipython3",
   "version": "3.8.3"
  }
 },
 "nbformat": 4,
 "nbformat_minor": 4
}
